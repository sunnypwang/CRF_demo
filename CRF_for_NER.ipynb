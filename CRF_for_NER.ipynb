{
  "nbformat": 4,
  "nbformat_minor": 0,
  "metadata": {
    "colab": {
      "name": "CRF for NER",
      "version": "0.3.2",
      "provenance": [],
      "collapsed_sections": [],
      "include_colab_link": true
    },
    "kernelspec": {
      "name": "python3",
      "display_name": "Python 3"
    }
  },
  "cells": [
    {
      "cell_type": "markdown",
      "metadata": {
        "id": "view-in-github",
        "colab_type": "text"
      },
      "source": [
        "<a href=\"https://colab.research.google.com/github/sunnypwang/CRF_demo/blob/master/CRF_for_NER.ipynb\" target=\"_parent\"><img src=\"https://colab.research.google.com/assets/colab-badge.svg\" alt=\"Open In Colab\"/></a>"
      ]
    },
    {
      "cell_type": "markdown",
      "metadata": {
        "id": "VvjQf3p7hYOl",
        "colab_type": "text"
      },
      "source": [
        "# Training a named-entity recognizer using Conditional Random Fields\n",
        "\n",
        "We want to build a feature-based NER loaded with the following features\n",
        "\n",
        "\n",
        "\n",
        "*   Morphological and orthographical features\n",
        "*   Word type features\n",
        "*   Word features\n",
        "*   Gazetteer features\n",
        "\n",
        "We want to incrementally evaluate the features sets on the English NER task.\n"
      ]
    },
    {
      "cell_type": "code",
      "metadata": {
        "id": "e_icbLCTbQDV",
        "colab_type": "code",
        "colab": {}
      },
      "source": [
        "!wget https://raw.githubusercontent.com/synalp/NER/master/corpus/CoNLL-2003/eng.train.openNLP"
      ],
      "execution_count": 0,
      "outputs": []
    },
    {
      "cell_type": "code",
      "metadata": {
        "id": "S_oUt8oubR07",
        "colab_type": "code",
        "colab": {}
      },
      "source": [
        "!wget https://raw.githubusercontent.com/synalp/NER/master/corpus/CoNLL-2003/eng.testa.openNLP"
      ],
      "execution_count": 0,
      "outputs": []
    },
    {
      "cell_type": "code",
      "metadata": {
        "id": "nCAI5im4fm8G",
        "colab_type": "code",
        "colab": {}
      },
      "source": [
        ""
      ],
      "execution_count": 0,
      "outputs": []
    },
    {
      "cell_type": "code",
      "metadata": {
        "id": "Jivk7RHLcfs5",
        "colab_type": "code",
        "colab": {}
      },
      "source": [
        "!pip install python-crfsuite"
      ],
      "execution_count": 0,
      "outputs": []
    },
    {
      "cell_type": "code",
      "metadata": {
        "id": "PAtinmNWcE2A",
        "colab_type": "code",
        "colab": {}
      },
      "source": [
        "import pycrfsuite\n",
        "import spacy"
      ],
      "execution_count": 0,
      "outputs": []
    },
    {
      "cell_type": "code",
      "metadata": {
        "id": "Gl_zz274cIzw",
        "colab_type": "code",
        "colab": {}
      },
      "source": [
        ""
      ],
      "execution_count": 0,
      "outputs": []
    },
    {
      "cell_type": "markdown",
      "metadata": {
        "id": "0aocgHCXiNuR",
        "colab_type": "text"
      },
      "source": [
        "# Orthographical features\n",
        "\n",
        "Write feature functions\n",
        "*  Is the first letter of the word capitalized?\n",
        "*  Are the entire words capitalized?\n",
        "*  What is the shape of the word in general? \n"
      ]
    },
    {
      "cell_type": "code",
      "metadata": {
        "id": "niMuSXQricn6",
        "colab_type": "code",
        "colab": {}
      },
      "source": [
        "def is_first_letter_capitalized(word_seq, feature_dict_seq, position):\n",
        "  word = word_seq[position]\n",
        "  feature_dict_seq[position]['is_first_letter_cap'] = word[0].isupper() and len(word) > 1 and word[1:].islower()\n",
        "\n",
        "\n",
        "def is_all_caps(word_seq, feature_dict_seq, position):\n",
        "  pass\n",
        "\n",
        "def word_shape(word_seq, feature_dict_seq, position):\n",
        "  pass\n",
        "\n",
        "\n"
      ],
      "execution_count": 0,
      "outputs": []
    },
    {
      "cell_type": "markdown",
      "metadata": {
        "id": "FcJrivsrktwa",
        "colab_type": "text"
      },
      "source": [
        "# Train a simple model and evaluate\n",
        "\n",
        "* Load the training set\n",
        "\n",
        "* Use a featurizer above on the training set and test set. Fit a CRF model\n",
        "\n",
        "* Evaluate the results on the test set"
      ]
    },
    {
      "cell_type": "code",
      "metadata": {
        "id": "_FHI7HjLkuIC",
        "colab_type": "code",
        "colab": {}
      },
      "source": [
        "def load_data(file_name):\n",
        "  sequence_list = []\n",
        "  cur_seq = []\n",
        "  for line in open(file_name):\n",
        "    if line.strip() == '':\n",
        "      if len(cur_seq) > 1:\n",
        "        sequence_list.append(cur_seq)\n",
        "      cur_seq = []\n",
        "    else: \n",
        "      word, _, _, ner_tag = line.strip().split()\n",
        "      if ner_tag[0] == 'I' and (len(cur_seq) == 0 or cur_seq[-1][1][0] == 'O'):\n",
        "        ner_tag = 'B' + ner_tag[1:]\n",
        "      cur_seq.append((word, ner_tag))\n",
        "  return sequence_list\n"
      ],
      "execution_count": 0,
      "outputs": []
    },
    {
      "cell_type": "code",
      "metadata": {
        "id": "YcEohWnLpLWq",
        "colab_type": "code",
        "colab": {}
      },
      "source": [
        "training_set = load_data('eng.train.openNLP')\n",
        "test_set = load_data('eng.testa.openNLP')"
      ],
      "execution_count": 0,
      "outputs": []
    },
    {
      "cell_type": "code",
      "metadata": {
        "id": "xbv6EQiDpS3M",
        "colab_type": "code",
        "colab": {}
      },
      "source": [
        "training_set[200]"
      ],
      "execution_count": 0,
      "outputs": []
    },
    {
      "cell_type": "code",
      "metadata": {
        "id": "KVfJbQYjr5qS",
        "colab_type": "code",
        "colab": {}
      },
      "source": [
        "def train_and_evaluate(training_set, test_set, feature_function_list):\n",
        "  pass\n",
        "\n",
        "train_and_evaluate(training_set, test_set, [is_first_letter_capitalized, is_all_caps, word_shape])\n"
      ],
      "execution_count": 0,
      "outputs": []
    },
    {
      "cell_type": "markdown",
      "metadata": {
        "id": "iCPuLSfZif1-",
        "colab_type": "text"
      },
      "source": [
        "# Word type features\n",
        "\n",
        "Use spacy NLP preprocessor to obtain universal part of speech tags and write feature functions:\n",
        "\n",
        "* POS tag of the current word (t-0)\n",
        "* POS tag of the next word (t+1)\n",
        "* POS tag of the previous word (t-1)\n",
        "* t-1 AND t-0 AND t+1\n"
      ]
    },
    {
      "cell_type": "code",
      "metadata": {
        "id": "M8IvEnZQie8X",
        "colab_type": "code",
        "colab": {}
      },
      "source": [
        "nlp_processor = spacy.load('en')"
      ],
      "execution_count": 0,
      "outputs": []
    },
    {
      "cell_type": "markdown",
      "metadata": {
        "id": "hjhBjOvDi-VM",
        "colab_type": "text"
      },
      "source": [
        "# Word features\n",
        "This feature basically makes the model remember the name strings\n",
        "* current word (t-0)\n",
        "* next word (t+1)\n",
        "* previous word (t-1)\n",
        "* w-1 AND w-0 AND w+1"
      ]
    },
    {
      "cell_type": "code",
      "metadata": {
        "id": "EUpGZPHwi-2-",
        "colab_type": "code",
        "colab": {}
      },
      "source": [
        ""
      ],
      "execution_count": 0,
      "outputs": []
    },
    {
      "cell_type": "markdown",
      "metadata": {
        "id": "wlIe29PUjRob",
        "colab_type": "text"
      },
      "source": [
        "# Gazetteer features\n",
        "\n",
        "Gazetteer = list of names (in NLP)\n",
        "\n",
        "The training set cannot possibly cover all of the names in the world. But a list of names from trustworthy sources provides an enormous source of knowledge. \n",
        "\n",
        "First, write a regular expression to extract the name list from \n",
        "\n",
        "https://names.mongabay.com//baby_names/boys-2017.html\n",
        "\n",
        "https://names.mongabay.com//baby_names/girls-2017.html\n",
        "\n",
        "and download list of countries\n",
        "\n",
        "https://gist.githubusercontent.com/kalinchernev/486393efcca01623b18d/raw/daa24c9fea66afb7d68f8d69f0c4b8eeb9406e83/countries\n",
        "\n",
        "\n",
        "And use these lists to form features\n",
        "\n",
        "* Is this word in the list?\n",
        "\n",
        "Normally, we would scrape wikipedia or other sources e.g. medical dictionary for more coverage."
      ]
    },
    {
      "cell_type": "code",
      "metadata": {
        "id": "0ysMmQc_jSBL",
        "colab_type": "code",
        "colab": {}
      },
      "source": [
        "import requests\n",
        "import re"
      ],
      "execution_count": 0,
      "outputs": []
    },
    {
      "cell_type": "code",
      "metadata": {
        "id": "vRh9s2rsqCnN",
        "colab_type": "code",
        "colab": {}
      },
      "source": [
        "!wget https://gist.githubusercontent.com/kalinchernev/486393efcca01623b18d/raw/daa24c9fea66afb7d68f8d69f0c4b8eeb9406e83/countries"
      ],
      "execution_count": 0,
      "outputs": []
    },
    {
      "cell_type": "code",
      "metadata": {
        "id": "u0Ar4XcikP9O",
        "colab_type": "code",
        "colab": {}
      },
      "source": [
        "website_text = requests.get('https://names.mongabay.com//baby_names/boys-2017.html').text"
      ],
      "execution_count": 0,
      "outputs": []
    },
    {
      "cell_type": "code",
      "metadata": {
        "id": "oTBlJFWZkZjW",
        "colab_type": "code",
        "colab": {}
      },
      "source": [
        ""
      ],
      "execution_count": 0,
      "outputs": []
    },
    {
      "cell_type": "markdown",
      "metadata": {
        "id": "Ht9eJmFtsN6w",
        "colab_type": "text"
      },
      "source": [
        "# Putting it all together\n",
        "\n",
        "Try different combinations of features and see if you can get good results. "
      ]
    },
    {
      "cell_type": "code",
      "metadata": {
        "id": "0AvV7DLYsPZV",
        "colab_type": "code",
        "colab": {}
      },
      "source": [
        ""
      ],
      "execution_count": 0,
      "outputs": []
    }
  ]
}